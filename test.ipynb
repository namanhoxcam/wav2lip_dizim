{
 "cells": [
  {
   "cell_type": "code",
   "execution_count": 2,
   "metadata": {},
   "outputs": [],
   "source": [
    "import os\n",
    "import cv2\n",
    "os.environ[\"IMAGEIO_FFMPEG_EXE\"] = \"/opt/homebrew/bin/ffmpeg\""
   ]
  },
  {
   "cell_type": "code",
   "execution_count": 8,
   "metadata": {},
   "outputs": [],
   "source": [
    "from moviepy.video.io.ffmpeg_tools import ffmpeg_extract_subclip"
   ]
  },
  {
   "cell_type": "code",
   "execution_count": 9,
   "metadata": {},
   "outputs": [
    {
     "name": "stdout",
     "output_type": "stream",
     "text": [
      "Moviepy - Running:\n",
      ">>> \"+ \" \".join(cmd)\n",
      "Moviepy - Command successful\n"
     ]
    }
   ],
   "source": [
    "ffmpeg_extract_subclip(\"85407_uK4dmeUD.mp4\", 0, 4, targetname=\"test.mp4\")"
   ]
  },
  {
   "cell_type": "code",
   "execution_count": 6,
   "metadata": {},
   "outputs": [],
   "source": [
    "vfile = 'test.mp4'"
   ]
  },
  {
   "cell_type": "code",
   "execution_count": 4,
   "metadata": {},
   "outputs": [],
   "source": [
    "path = '/Users/namanh.ngco/Downloads/videos'"
   ]
  },
  {
   "cell_type": "code",
   "execution_count": 6,
   "metadata": {},
   "outputs": [
    {
     "name": "stderr",
     "output_type": "stream",
     "text": [
      "Copying files: 69 files [00:00, 111.52 files/s]\n"
     ]
    }
   ],
   "source": [
    "import splitfolders\n",
    "splitfolders.ratio(path, output=\"data\", ratio=(0.8, 0.1, 0.1))"
   ]
  },
  {
   "cell_type": "code",
   "execution_count": 8,
   "metadata": {},
   "outputs": [
    {
     "data": {
      "text/plain": [
       "['.DS_Store',\n",
       " '0.mp4',\n",
       " '1.mp4',\n",
       " '10.mp4',\n",
       " '11.mp4',\n",
       " '12.mp4',\n",
       " '13.mp4',\n",
       " '14.mp4',\n",
       " '15.mp4',\n",
       " '16.mp4',\n",
       " '17.mp4',\n",
       " '18.mp4',\n",
       " '19.mp4',\n",
       " '2.mp4',\n",
       " '21.mp4',\n",
       " '22.mp4',\n",
       " '23.mp4',\n",
       " '24.mp4',\n",
       " '25.mp4',\n",
       " '27.mp4',\n",
       " '29.mp4',\n",
       " '3.mp4',\n",
       " '30.mp4',\n",
       " '32.mp4',\n",
       " '33.mp4',\n",
       " '34.mp4',\n",
       " '35.mp4',\n",
       " '36.mp4',\n",
       " '37.mp4',\n",
       " '38.mp4',\n",
       " '39.mp4',\n",
       " '4.mp4',\n",
       " '40.mp4',\n",
       " '41.mp4',\n",
       " '42.mp4',\n",
       " '43.mp4',\n",
       " '44.mp4',\n",
       " '45.mp4',\n",
       " '46.mp4',\n",
       " '48.mp4',\n",
       " '5.mp4',\n",
       " '51.mp4',\n",
       " '54.mp4',\n",
       " '55.mp4',\n",
       " '56.mp4',\n",
       " '57.mp4',\n",
       " '58.mp4',\n",
       " '6.mp4',\n",
       " '60.mp4',\n",
       " '62.mp4',\n",
       " '63.mp4',\n",
       " '64.mp4',\n",
       " '65.mp4',\n",
       " '66.mp4',\n",
       " '67.mp4',\n",
       " '7.mp4']"
      ]
     },
     "execution_count": 8,
     "metadata": {},
     "output_type": "execute_result"
    }
   ],
   "source": [
    "import os\n",
    "a = os.listdir('data/train')\n",
    "a = sorted(a)\n",
    "a"
   ]
  },
  {
   "cell_type": "code",
   "execution_count": 13,
   "metadata": {},
   "outputs": [
    {
     "name": "stdout",
     "output_type": "stream",
     "text": [
      "data/train.DS_Store\n",
      "data/train0.mp4\n",
      "data/train1.mp4\n",
      "data/train10.mp4\n",
      "data/train11.mp4\n",
      "data/train12.mp4\n",
      "data/train13.mp4\n",
      "data/train14.mp4\n",
      "data/train15.mp4\n",
      "data/train16.mp4\n",
      "data/train17.mp4\n",
      "data/train18.mp4\n",
      "data/train19.mp4\n",
      "data/train2.mp4\n",
      "data/train21.mp4\n",
      "data/train22.mp4\n",
      "data/train23.mp4\n",
      "data/train24.mp4\n",
      "data/train25.mp4\n",
      "data/train27.mp4\n",
      "data/train29.mp4\n",
      "data/train3.mp4\n",
      "data/train30.mp4\n",
      "data/train32.mp4\n",
      "data/train33.mp4\n",
      "data/train34.mp4\n",
      "data/train35.mp4\n",
      "data/train36.mp4\n",
      "data/train37.mp4\n",
      "data/train38.mp4\n",
      "data/train39.mp4\n",
      "data/train4.mp4\n",
      "data/train40.mp4\n",
      "data/train41.mp4\n",
      "data/train42.mp4\n",
      "data/train43.mp4\n",
      "data/train44.mp4\n",
      "data/train45.mp4\n",
      "data/train46.mp4\n",
      "data/train48.mp4\n",
      "data/train5.mp4\n",
      "data/train51.mp4\n",
      "data/train54.mp4\n",
      "data/train55.mp4\n",
      "data/train56.mp4\n",
      "data/train57.mp4\n",
      "data/train58.mp4\n",
      "data/train6.mp4\n",
      "data/train60.mp4\n",
      "data/train62.mp4\n",
      "data/train63.mp4\n",
      "data/train64.mp4\n",
      "data/train65.mp4\n",
      "data/train66.mp4\n",
      "data/train67.mp4\n",
      "data/train7.mp4\n",
      "\n"
     ]
    }
   ],
   "source": [
    "f = open(\"filelists/train.txt\", \"a\")\n",
    "for filename in a:\n",
    "    f.write('data/train' + filename + '\\n')\n",
    "f.close()\n",
    "\n",
    "#open and read the file after the appending:\n",
    "f = open(\"filelists/train.txt\", \"r\")\n",
    "print(f.read())"
   ]
  },
  {
   "cell_type": "code",
   "execution_count": 14,
   "metadata": {},
   "outputs": [
    {
     "name": "stdout",
     "output_type": "stream",
     "text": [
      "data/test47.mp4\n",
      "data/test53.mp4\n",
      "data/test.DS_Store\n",
      "data/test50.mp4\n",
      "data/test26.mp4\n",
      "data/test28.mp4\n",
      "data/test61.mp4\n",
      "data/test8.mp4\n",
      "data/test9.mp4\n",
      "\n"
     ]
    }
   ],
   "source": [
    "b = os.listdir('data/test')\n",
    "f = open(\"filelists/test.txt\", \"a\")\n",
    "for filename in b:\n",
    "    f.write('data/test' + filename + '\\n')\n",
    "f.close()\n",
    "\n",
    "#open and read the file after the appending:\n",
    "f = open(\"filelists/test.txt\", \"r\")\n",
    "print(f.read())"
   ]
  },
  {
   "cell_type": "code",
   "execution_count": 15,
   "metadata": {},
   "outputs": [
    {
     "name": "stdout",
     "output_type": "stream",
     "text": [
      "data/val47.mp4\n",
      "data/val53.mp4\n",
      "data/val.DS_Store\n",
      "data/val50.mp4\n",
      "data/val26.mp4\n",
      "data/val28.mp4\n",
      "data/val61.mp4\n",
      "data/val8.mp4\n",
      "data/val9.mp4\n",
      "\n"
     ]
    }
   ],
   "source": [
    "c = os.listdir('data/val')\n",
    "f = open(\"filelists/val.txt\", \"a\")\n",
    "for filename in b:\n",
    "    f.write('data/val' + filename + '\\n')\n",
    "f.close()\n",
    "\n",
    "#open and read the file after the appending:\n",
    "f = open(\"filelists/val.txt\", \"r\")\n",
    "print(f.read())"
   ]
  }
 ],
 "metadata": {
  "kernelspec": {
   "display_name": "myenv",
   "language": "python",
   "name": "python3"
  },
  "language_info": {
   "codemirror_mode": {
    "name": "ipython",
    "version": 3
   },
   "file_extension": ".py",
   "mimetype": "text/x-python",
   "name": "python",
   "nbconvert_exporter": "python",
   "pygments_lexer": "ipython3",
   "version": "3.9.18"
  }
 },
 "nbformat": 4,
 "nbformat_minor": 2
}
